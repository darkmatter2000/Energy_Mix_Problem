{
 "cells": [
  {
   "cell_type": "markdown",
   "id": "a5647461",
   "metadata": {},
   "source": [
    "# Quantum optimization algorithms for solving the electricity mix problem in the case of a renewable energy bouquet.\n",
    "The production of electrical energy from renewable sources has become a crucial issue in the face of current climate challenges. Electricity distribution networks now integrate numerous renewable energy sources, and the ultimate goal is to achieve a fully renewable electrical production, relying on a diversified energy mix including photovoltaic, wind, hydroelectric, biomass, geothermal, and many others. Each means of production has associated costs, which are not limited to financial aspects but also encompass environmental considerations. Thus, there are different ways to combine these energy sources. \n",
    "\n",
    "In this perspective, we propose a study focusing on the use of quantum computing to find an optimal combination of renewable energies while minimizing costs. However, it is important to emphasize that the work presented in this study is only a demonstration and does not rely on real data or a concrete model. Its objective is to highlight the potential resolution of this problem through quantum computing. In this regard, we strive to find, using a quantum approach, an energy combination that minimizes costs.\n",
    "   \n",
    " # Problem\n",
    " \n",
    " More concretely, the problem can be stated as follows:\n",
    " \n",
    "*Given a city with an energy requirement X and having n different sources of energy production (all assumed to be renewable), what is the optimal combination such that the overall cost of electricity production for this city is minimized?*\n",
    "\n",
    "The problem we are formulating is equivalent to other well-known problems such as the knapsack problem or the traveling salesman problem. These problems can be interpreted as quadratic problems because the cost can be modeled by a quadratic function subject to certain constraints. In our case, these constraints may include the maximum energy capacity of each source and the minimum energy requirement.\n",
    "\n",
    "To build our cost function, we can first consider that it should be the sum of the costs of each involved energy source. Then, it should take into account the mutual influence of the energy sources. This leads us to a simplified model that can be expressed mathematically as follows:\n",
    "\n",
    "We will only consider hydroelectric (h), solar (s), and wind (e) energy sources.\n",
    "\n",
    " Cost function: $f(h , s , e) = h + s + e + \\frac{1}{3}h.s + \\frac{1}{3}h.e +\\frac{1}{3}e.s$\n",
    "\n",
    "Constraints :\n",
    "- $0 \\leqslant h \\leqslant 4$\n",
    "- $0 \\leqslant s \\leqslant 3$\n",
    "- $0 \\leqslant e \\leqslant 2$\n",
    "- $ h + s + e \\geqslant 2$\n",
    "\n",
    "# Implementation\n",
    "\n",
    "To solve this problem, we will implement two quantum optimization algorithms:\n",
    "\n",
    "- The **Quantum Approximate Optimization Algorithm (QAOA)** utilizes variable parameters to create a quantum superposition to efficiently explore the search space. Measurements are then performed to obtain an approximate solution to the optimization problem at hand.\n",
    "\n",
    "- The **Variational Quantum Eigensolver (VQE)** algorithm is used to estimate eigenvalues and eigenvectors of a quantum system. It relies on variational and optimization techniques to find an approximation of the ground states of a given quantum system. By using parameterized quantum circuits, VQE attempts to minimize the expected energy of the quantum system by adjusting the circuit parameters. This allows for an estimation of the desired quantum state, even on limited-scale quantum computers.\n",
    "\n",
    "Finally, we will compare our results with a classical approach."
   ]
  },
  {
   "cell_type": "markdown",
   "id": "49d5f761",
   "metadata": {},
   "source": [
    "## Initialization"
   ]
  },
  {
   "cell_type": "code",
   "execution_count": 1,
   "id": "23751645",
   "metadata": {},
   "outputs": [],
   "source": [
    "from qiskit import Aer\n",
    "from qiskit.algorithms import QAOA, VQE , NumPyMinimumEigensolver\n",
    "from qiskit.algorithms.optimizers import COBYLA\n",
    "from qiskit.algorithms.minimum_eigensolvers import NumPyMinimumEigensolver\n",
    "\n",
    "from qiskit.utils import QuantumInstance , algorithm_globals\n",
    "from qiskit.providers.aer.noise.noise_model import NoiseModel\n",
    "\n",
    "\n",
    "#Optimization package\n",
    "from qiskit_optimization import QuadraticProgram\n",
    "from qiskit_optimization.algorithms import MinimumEigenOptimizer\n",
    "\n",
    "from qiskit_optimization.converters import QuadraticProgramToQubo\n",
    "\n",
    "import qiskit.test.mock as fake"
   ]
  },
  {
   "cell_type": "markdown",
   "id": "69d3e60c",
   "metadata": {},
   "source": [
    "## Mapping the problem"
   ]
  },
  {
   "cell_type": "code",
   "execution_count": 2,
   "id": "d6a3305c",
   "metadata": {},
   "outputs": [
    {
     "name": "stdout",
     "output_type": "stream",
     "text": [
      "\\ This file has been generated by DOcplex\n",
      "\\ ENCODING=ISO-8859-1\n",
      "\\Problem name: electricity mix\n",
      "\n",
      "Minimize\n",
      " obj: 2 s + 3 h + _e + [ 0.666666666667 s*h + 0.666666666667 s*_e\n",
      "      + 0.666666666667 h*_e ]/2\n",
      "Subject To\n",
      " c0: s + h + _e >= 7\n",
      "\n",
      "Bounds\n",
      "       s <= 3\n",
      "       h <= 4\n",
      "       _e <= 2\n",
      "\n",
      "Generals\n",
      " s h _e\n",
      "End\n",
      "\n"
     ]
    }
   ],
   "source": [
    "mixElectric = QuadraticProgram(name = \"electricity mix\")\n",
    "mixElectric.integer_var(name = \"s\" , lowerbound = 0 , upperbound = 3)\n",
    "mixElectric.integer_var(name = \"h\" , lowerbound = 0 , upperbound = 4)\n",
    "mixElectric.integer_var(name = \"e\" , lowerbound = 0 , upperbound = 2)\n",
    "\n",
    "mixElectric.minimize(\n",
    "linear = {\"s\":2 , \"h\":3 , \"e\":1} ,\n",
    "quadratic = {(\"s\",\"h\"):(1/3) , (\"s\",\"e\"):(1/3) , (\"h\",\"e\"):(1/3)})\n",
    "\n",
    "mixElectric.linear_constraint(linear = {\"s\":1 , \"h\":1 , \"e\":1} , sense= \">=\" , rhs = 7)\n",
    "\n",
    "print(mixElectric.export_as_lp_string())"
   ]
  },
  {
   "cell_type": "markdown",
   "id": "b2b42d34",
   "metadata": {},
   "source": [
    "To execute and apply our algorithms to our problem, we will transform it into binary and convert it from a quadratic problem to an Unconstrained Binary Optimization problem (QUBO).\n"
   ]
  },
  {
   "cell_type": "code",
   "execution_count": 3,
   "id": "9a639947",
   "metadata": {},
   "outputs": [
    {
     "name": "stdout",
     "output_type": "stream",
     "text": [
      "The required number of qubits is:9\n"
     ]
    }
   ],
   "source": [
    "qubo_version , _ = (QuadraticProgramToQubo().convert(mixElectric, ).to_ising())\n",
    "\n",
    "print(f\"The required number of qubits is:{qubo_version.num_qubits}\")"
   ]
  },
  {
   "cell_type": "code",
   "execution_count": 4,
   "id": "88a52954",
   "metadata": {},
   "outputs": [
    {
     "data": {
      "text/plain": [
       "<QuadraticProgram: minimize 29.666666666666664*c0@int_slack@0^2 + 59.333333333..., 9 variables, 0 constraints, 'electricity mix'>"
      ]
     },
     "execution_count": 4,
     "metadata": {},
     "output_type": "execute_result"
    }
   ],
   "source": [
    "QuadraticProgramToQubo().convert(mixElectric)"
   ]
  },
  {
   "cell_type": "markdown",
   "id": "dd28d6da",
   "metadata": {},
   "source": [
    "# QAOA Solution"
   ]
  },
  {
   "cell_type": "code",
   "execution_count": 5,
   "id": "240e7c28",
   "metadata": {},
   "outputs": [],
   "source": [
    "def QAOA_solution(\n",
    "mixElectric: QuadraticProgram, quantumInstance:QuantumInstance, optimizer = None,):\n",
    "    _eval_count = 0\n",
    "    \n",
    "    def callback(eval_count , parameters, mean, std):\n",
    "        nonlocal _eval_count\n",
    "        _eval_count = eval_count\n",
    "        \n",
    "    solver = QAOA(\n",
    "        optimizer = optimizer, quantum_instance = quantumInstance, callback = callback)\n",
    "    optimizer = MinimumEigenOptimizer(solver)\n",
    "        \n",
    "    result = optimizer.solve(mixElectric)\n",
    "    return result, _eval_count"
   ]
  },
  {
   "cell_type": "code",
   "execution_count": 6,
   "id": "f078d1a5",
   "metadata": {},
   "outputs": [
    {
     "name": "stderr",
     "output_type": "stream",
     "text": [
      "C:\\Users\\isaac\\AppData\\Local\\Temp\\ipykernel_43436\\2624796069.py:1: DeprecationWarning: The class ``qiskit.utils.quantum_instance.QuantumInstance`` is deprecated as of qiskit-terra 0.24.0. It will be removed no earlier than 3 months after the release date. For code migration guidelines, visit https://qisk.it/qi_migration.\n",
      "  simulator_instance = QuantumInstance(\n",
      "C:\\Users\\isaac\\AppData\\Local\\Temp\\ipykernel_43436\\3576925875.py:9: DeprecationWarning: The class ``qiskit.algorithms.minimum_eigen_solvers.qaoa.QAOA`` is deprecated as of qiskit-terra 0.24.0. It will be removed no earlier than 3 months after the release date. Instead, use the class ``qiskit.algorithms.minimum_eigensolvers.QAOA``. See https://qisk.it/algo_migration for a migration guide.\n",
      "  solver = QAOA(\n"
     ]
    },
    {
     "name": "stdout",
     "output_type": "stream",
     "text": [
      "Solution with QAOA method:\n",
      "\n",
      "minimum cost is 19.333333333333332\n",
      "energies: \n",
      "\t42.857142857142854 percent of s\n",
      "\t28.57142857142857 percent of h\n",
      "\t28.57142857142857 percent of e\n",
      "\n",
      "The solution was found within 196 evaluations of QAOA.\n"
     ]
    }
   ],
   "source": [
    "simulator_instance = QuantumInstance(\n",
    "backend = Aer.get_backend(\"qasm_simulator\"),\n",
    "seed_simulator = algorithm_globals.random_seed,\n",
    "seed_transpiler = algorithm_globals.random_seed,\n",
    ")\n",
    "\n",
    "#result\n",
    "\n",
    "qaoa_result, qaoa_eval_count = QAOA_solution(mixElectric, simulator_instance)\n",
    "\n",
    "# Format and print result\n",
    "print(\"Solution with QAOA method:\\n\")\n",
    "print(f\"minimum cost is {qaoa_result.fval}\")\n",
    "print(f\"energies: \")\n",
    "for energy_quantity, energy_name in zip(qaoa_result.x, qaoa_result.variable_names):\n",
    "    print(f\"\\t{(energy_quantity/7)*100} percent of {energy_name}\")\n",
    "\n",
    "print(f\"\\nThe solution was found within {qaoa_eval_count} evaluations of QAOA.\")"
   ]
  },
  {
   "cell_type": "markdown",
   "id": "5d341012",
   "metadata": {},
   "source": [
    "# VQE solution"
   ]
  },
  {
   "cell_type": "code",
   "execution_count": 7,
   "id": "fb6f0d18",
   "metadata": {},
   "outputs": [],
   "source": [
    "def VQE_solution(\n",
    "mixElectric: QuadraticProgram, quantumInstance:QuantumInstance, optimizer = None,):\n",
    "    _eval_count = 0\n",
    "    \n",
    "    def callback(eval_count , parameters, mean, std):\n",
    "        nonlocal _eval_count\n",
    "        _eval_count = eval_count\n",
    "        \n",
    "    solver = VQE(\n",
    "        optimizer = optimizer, quantum_instance = quantumInstance, callback = callback)\n",
    "    optimizer = MinimumEigenOptimizer(solver)\n",
    "        \n",
    "    result = optimizer.solve(mixElectric)\n",
    "    return result, _eval_count"
   ]
  },
  {
   "cell_type": "code",
   "execution_count": 8,
   "id": "9eef530e",
   "metadata": {},
   "outputs": [
    {
     "name": "stderr",
     "output_type": "stream",
     "text": [
      "C:\\Users\\isaac\\AppData\\Local\\Temp\\ipykernel_43436\\375443605.py:2: DeprecationWarning: The class ``qiskit.utils.quantum_instance.QuantumInstance`` is deprecated as of qiskit-terra 0.24.0. It will be removed no earlier than 3 months after the release date. For code migration guidelines, visit https://qisk.it/qi_migration.\n",
      "  simulator_instance = QuantumInstance(\n",
      "C:\\Users\\isaac\\AppData\\Local\\Temp\\ipykernel_43436\\2172370032.py:9: DeprecationWarning: The class ``qiskit.algorithms.minimum_eigen_solvers.vqe.VQE`` is deprecated as of qiskit-terra 0.24.0. It will be removed no earlier than 3 months after the release date. Instead, use the class ``qiskit.algorithms.minimum_eigensolvers.VQE``. See https://qisk.it/algo_migration for a migration guide.\n",
      "  solver = VQE(\n"
     ]
    },
    {
     "name": "stdout",
     "output_type": "stream",
     "text": [
      "Solution found using the VQE method:\n",
      "\n",
      "minimun cost is19.333333333333332\n",
      "energy used are: \n",
      "\t42.857142857142854 percent of s\n",
      "\t28.57142857142857 percent of h\n",
      "\t28.57142857142857 percent of e\n",
      "\n",
      "The solution was found within 37 evaluations of VQE\n"
     ]
    }
   ],
   "source": [
    "#create a QuantumInstance\n",
    "simulator_instance = QuantumInstance(\n",
    "    backend = Aer.get_backend(\"qasm_simulator\"),\n",
    "    seed_simulator = algorithm_globals.random_seed,\n",
    "    seed_transpiler = algorithm_globals.random_seed,\n",
    ")\n",
    "\n",
    "#Get VQE result\n",
    "\n",
    "vqe_result, vqe_eval_count = VQE_solution(mixElectric , simulator_instance)\n",
    "\n",
    "# Format and print result\n",
    "print(\"Solution found using the VQE method:\\n\")\n",
    "print(f\"minimun cost is{vqe_result.fval}\")\n",
    "print(f\"energy used are: \")\n",
    "for energy_quantity, energy_name in zip(vqe_result.x, vqe_result.variable_names):\n",
    "    print(f\"\\t{(energy_quantity/7)*100} percent of {energy_name}\")\n",
    "\n",
    "print(f\"\\nThe solution was found within {vqe_eval_count} evaluations of VQE\")\n"
   ]
  },
  {
   "cell_type": "markdown",
   "id": "a0b7aaca",
   "metadata": {},
   "source": [
    "# Classical solution"
   ]
  },
  {
   "cell_type": "code",
   "execution_count": 9,
   "id": "39f5a6e4",
   "metadata": {},
   "outputs": [],
   "source": [
    "def classical_solution(mixElectric: QuadraticProgram):\n",
    "    solver = NumPyMinimumEigensolver()\n",
    "    optimizer = MinimumEigenOptimizer(solver)\n",
    "    \n",
    "    return optimizer.solve(mixElectric)\n",
    "    "
   ]
  },
  {
   "cell_type": "code",
   "execution_count": 10,
   "id": "c849aa79",
   "metadata": {},
   "outputs": [
    {
     "name": "stdout",
     "output_type": "stream",
     "text": [
      "Solution found using the classical method:\n",
      "\n",
      "minimum cost is 19.333333333333332 \n",
      "les sources d'énérgies sont: \n",
      "\t42.857142857142854 percent of s\n",
      "\t28.57142857142857 percent of h\n",
      "\t28.57142857142857 percent of e\n"
     ]
    }
   ],
   "source": [
    "classical_result = classical_solution(mixElectric)\n",
    "\n",
    "print(\"Solution found using the classical method:\\n\")\n",
    "print(f\"minimum cost is {classical_result.fval} \")\n",
    "print(f\"les sources d'énérgies sont: \")\n",
    "\n",
    "_energy = [v.name for v in mixElectric.variables]\n",
    "for Index, energy in enumerate(classical_result.x):\n",
    "    print(f\"\\t{(energy/7)*100} percent of {_energy[Index]}\")"
   ]
  },
  {
   "cell_type": "markdown",
   "id": "7f38612d",
   "metadata": {},
   "source": [
    "# Discussion and conclusion"
   ]
  },
  {
   "cell_type": "markdown",
   "id": "d2ff1269",
   "metadata": {},
   "source": [
    "As can be seen, the three approaches yield the same results. The VQE algorithm performs better, requiring only 37 evaluations, while the QAOA algorithm requires 183.\n",
    "\n",
    "Although the model is simple and likely disconnected from reality, it provides at least an overview of the reliability of a quantum approach. With a sufficiently large database on the deployment of electrical energy for a given area, it would be possible to build a realistic model.\n",
    "\n",
    "Even though we used a local simulation for this work, there is currently no issue in using a real computer."
   ]
  },
  {
   "cell_type": "code",
   "execution_count": 11,
   "id": "0d23c181",
   "metadata": {},
   "outputs": [
    {
     "data": {
      "text/html": [
       "<h3>Version Information</h3><table><tr><th>Qiskit Software</th><th>Version</th></tr><tr><td><code>qiskit-terra</code></td><td>0.24.0</td></tr><tr><td><code>qiskit-aer</code></td><td>0.12.0</td></tr><tr><td><code>qiskit-ibmq-provider</code></td><td>0.20.2</td></tr><tr><td><code>qiskit</code></td><td>0.43.0</td></tr><tr><td><code>qiskit-optimization</code></td><td>0.5.0</td></tr><tr><th>System information</th></tr><tr><td>Python version</td><td>3.9.13</td></tr><tr><td>Python compiler</td><td>MSC v.1916 64 bit (AMD64)</td></tr><tr><td>Python build</td><td>main, Aug 25 2022 23:51:50</td></tr><tr><td>OS</td><td>Windows</td></tr><tr><td>CPUs</td><td>8</td></tr><tr><td>Memory (Gb)</td><td>15.855525970458984</td></tr><tr><td colspan='2'>Sun Jun 18 13:48:26 2023 Paris, Madrid (heure d’été)</td></tr></table>"
      ],
      "text/plain": [
       "<IPython.core.display.HTML object>"
      ]
     },
     "metadata": {},
     "output_type": "display_data"
    }
   ],
   "source": [
    "import qiskit.tools.jupyter\n",
    "\n",
    "%qiskit_version_table"
   ]
  }
 ],
 "metadata": {
  "kernelspec": {
   "display_name": "Python 3 (ipykernel)",
   "language": "python",
   "name": "python3"
  },
  "language_info": {
   "codemirror_mode": {
    "name": "ipython",
    "version": 3
   },
   "file_extension": ".py",
   "mimetype": "text/x-python",
   "name": "python",
   "nbconvert_exporter": "python",
   "pygments_lexer": "ipython3",
   "version": "3.9.13"
  }
 },
 "nbformat": 4,
 "nbformat_minor": 5
}
